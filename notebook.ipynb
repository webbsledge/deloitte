{
 "cells": [
  {
   "cell_type": "code",
   "execution_count": null,
   "metadata": {},
   "outputs": [],
   "source": [
    "import os.path\n",
    "\n",
    "dir1 = os.path.abspath(r\"Z:\\01vol1\\users\\GROUP\\Federal Finance - Internal Reporting\\Federal BP&A Repository\\FY14 and Prior\")\n",
    "dir2 = os.path.abspath(r\"C:\\Users\\wsledge\\Deloitte (O365D)\\GPS FP&A Shared Drive - Documents\\Federal BP&A Repository\\FY14 and Prior\")"
   ]
  },
  {
   "cell_type": "code",
   "execution_count": 1,
   "metadata": {},
   "outputs": [
    {
     "name": "stdout",
     "output_type": "stream",
     "text": [
      "Use : python cmp_dir.py <dir_1> <dir_2> [-a] [-s <file>]\n",
      "dir_1 and dir_2 : directories to compare\n",
      "-a : also compare data inside files\n",
      "-s : save results inside <file>\n"
     ]
    }
   ],
   "source": [
    "from __future__ import print_function\n",
    "import filecmp\n",
    "import os.path\n",
    "import sys\n",
    "\n",
    "def print_help():\n",
    "    print(\"Use : python cmp_dir.py <dir_1> <dir_2> [-a] [-s <file>]\")\n",
    "    print(\"dir_1 and dir_2 : directories to compare\")\n",
    "    print(\"-a : also compare data inside files\")\n",
    "    print(\"-s : save results inside <file>\")\n",
    "\n",
    "def compare_dir_trees(dir1, dir2, compare_file_data, output):\n",
    "\n",
    "    def compare_dirs(dir1, dir2):\n",
    "        dirs_cmp = filecmp.dircmp(dir1, dir2)\n",
    "    \n",
    "        if dirs_cmp.left_only:\n",
    "            print(\"files or subdirs only in %s : %s \" % (dir1, dirs_cmp.left_only),\n",
    "                  file=output)\n",
    "\n",
    "        if dirs_cmp.right_only:\n",
    "            print(\"files or subdirs only in %s : %s \" % (dir2, dirs_cmp.right_only),\n",
    "                  file=output)\n",
    "\n",
    "        if compare_file_data and dirs_cmp.diff_files:\n",
    "            print(\"different files in %s : %s \" % (dir1, dirs_cmp.diff_files),\n",
    "                  file=output)\n",
    "        \n",
    "        for common_dir in dirs_cmp.common_dirs:\n",
    "            new_dir1 = os.path.join(dir1, common_dir)\n",
    "            new_dir2 = os.path.join(dir2, common_dir)\n",
    "            compare_dir(new_dir1, new_dir2)\n",
    "\n",
    "    compare_dirs(dir1, dir2)\n",
    "\n",
    "def main(argv):\n",
    "    compare_file_data = False\n",
    "    file_to_save_results = None\n",
    "\n",
    "    if '-s' in argv:\n",
    "        pos = argv.index('-s')\n",
    "        if pos + 1 < len(argv):\n",
    "            file_to_save_results = argv[pos + 1]\n",
    "            del argv[pos:pos+2]\n",
    "\n",
    "    if '-a' in argv:\n",
    "        argv.remove('-a')\n",
    "        compare_file_data = True\n",
    "\n",
    "    if len(argv) != 3:\n",
    "        print_help()\n",
    "        return\n",
    "    \n",
    "    dir_a = argv[1]\n",
    "    dir_b = argv[2]\n",
    "    \n",
    "    print(\"Compare dirs %s and %s\" % (dir_a, dir_b))\n",
    "    print(\"Start compare\")\n",
    "\n",
    "    if file_to_save_results:\n",
    "        with open(file_to_save_results, \"w\") as file:\n",
    "            compare_dir_trees(dir_a, dir_b, compare_file_data, file)\n",
    "    else:\n",
    "        compare_dir_trees(dir_a, dir_b, compare_file_data, sys.stdout)\n",
    "\n",
    "    print(\"End compare\")\n",
    "    \n",
    "\n",
    "if __name__ == '__main__':\n",
    "    main(sys.argv)"
   ]
  }
 ],
 "metadata": {
  "kernelspec": {
   "display_name": "deloitte-XyP_2XpX",
   "language": "python",
   "name": "python3"
  },
  "language_info": {
   "codemirror_mode": {
    "name": "ipython",
    "version": 3
   },
   "file_extension": ".py",
   "mimetype": "text/x-python",
   "name": "python",
   "nbconvert_exporter": "python",
   "pygments_lexer": "ipython3",
   "version": "3.11.4"
  },
  "orig_nbformat": 4
 },
 "nbformat": 4,
 "nbformat_minor": 2
}
